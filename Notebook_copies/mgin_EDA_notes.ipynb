{
 "cells": [
  {
   "cell_type": "markdown",
   "metadata": {},
   "source": [
    "# Exploratory Data Analysis\n",
    "\n",
    "The Criteo Display Advertising dataset that we are provided contains:\n",
    "1. Data labels\n",
    "2. Columns 1-13 are numerical data\n",
    "3. Columns 14-26 are categorical (string) data\n",
    "\n",
    "All the data has been anonamized, which provides some challenges in of itself, as we will not be able to use any direct human intuition as part of our feature selection. In this analysis, we will explore the Criteo Ad data to support our predictive modeling. Analysis of data heuristics will provide insight on which models might perform well, which hyperparameters to choose, and speculate on the overall difficulty of the undertaking. The EDA will commence with 3 sections:\n",
    "\n",
    "1. Data quality and distribution\n",
    "2. Statistics of the most prevalent instances of categorical data\n",
    "3. Systematic differences in features per label"
   ]
  },
  {
   "cell_type": "code",
   "execution_count": null,
   "metadata": {},
   "outputs": [],
   "source": []
  },
  {
   "cell_type": "markdown",
   "metadata": {},
   "source": [
    "Due to the large number of potential categories in our categorical data and the fact that the data has been anonamized in to hexadecimal strings (32-bits); one approach to reduce the feature space using a hashing trick [TODO: NEED CITATION].  This will help us reduce the feature space of the categorical data and allow for faster training of our models."
   ]
  }
 ],
 "metadata": {
  "kernelspec": {
   "display_name": "Python 3",
   "language": "python",
   "name": "python3"
  },
  "language_info": {
   "codemirror_mode": {
    "name": "ipython",
    "version": 3
   },
   "file_extension": ".py",
   "mimetype": "text/x-python",
   "name": "python",
   "nbconvert_exporter": "python",
   "pygments_lexer": "ipython3",
   "version": "3.6.6"
  }
 },
 "nbformat": 4,
 "nbformat_minor": 2
}
