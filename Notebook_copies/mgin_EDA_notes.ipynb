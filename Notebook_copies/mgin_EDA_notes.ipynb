{
 "cells": [
  {
   "cell_type": "markdown",
   "metadata": {},
   "source": [
    "# Exploratory Data Analysis\n",
    "\n",
    "The Criteo Display Advertising dataset that we are provided contains:\n",
    "1. Data labels\n",
    "2. Columns 1-13 are numerical data\n",
    "3. Columns 14-26 are categorical (string) data\n",
    "\n",
    "All the data has been anonamized, which provides some challenges in of itself, as we will not be able to use any direct human intuition as part of our feature selection.  Aspects we'll want to explore about the data will include checks for missing data points and consideration remedies for missing fields as well as cross-correlation of variables with missing data.\n",
    "\n",
    "We'll also want to investigate the number categories distribution for the categorical data.  This will be particularly useful in helping to determine if we need to do additional feature engineering and can affect our strategy for predicting labels.\n",
    "\n",
    "Similar to the categorical data, we want to investigate the distribution of each numerical data field; this can also help guide our decision making on how best to predict Ad Click-Through based on the data provided."
   ]
  },
  {
   "cell_type": "code",
   "execution_count": null,
   "metadata": {},
   "outputs": [],
   "source": []
  },
  {
   "cell_type": "markdown",
   "metadata": {},
   "source": [
    "Due to the large number of potential categories in our categorical data and the fact that the data has been anonamized in to hexadecimal strings (32-bits); one approach to reduce the feature space using a hashing trick [TODO: NEED CITATION].  This will help us reduce the feature space of the categorical data and allow for faster training of our models."
   ]
  }
 ],
 "metadata": {
  "kernelspec": {
   "display_name": "Python 3",
   "language": "python",
   "name": "python3"
  },
  "language_info": {
   "codemirror_mode": {
    "name": "ipython",
    "version": 3
   },
   "file_extension": ".py",
   "mimetype": "text/x-python",
   "name": "python",
   "nbconvert_exporter": "python",
   "pygments_lexer": "ipython3",
   "version": "3.6.6"
  }
 },
 "nbformat": 4,
 "nbformat_minor": 2
}
