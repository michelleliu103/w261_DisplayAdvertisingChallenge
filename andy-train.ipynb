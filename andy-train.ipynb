{
 "cells": [
  {
   "cell_type": "code",
   "execution_count": 1,
   "metadata": {},
   "outputs": [],
   "source": [
    "import math\n",
    "import csv\n",
    "import hashlib\n",
    "import numpy as np"
   ]
  },
  {
   "cell_type": "code",
   "execution_count": 2,
   "metadata": {},
   "outputs": [],
   "source": [
    "# start Spark Session\n",
    "from pyspark.sql import SparkSession\n",
    "app_name = \"w261_final_training\"\n",
    "master = \"local[*]\"\n",
    "spark = SparkSession\\\n",
    "        .builder\\\n",
    "        .appName(app_name)\\\n",
    "        .master(master)\\\n",
    "        .getOrCreate()\n",
    "sc = spark.sparkContext"
   ]
  },
  {
   "cell_type": "code",
   "execution_count": 3,
   "metadata": {},
   "outputs": [],
   "source": [
    "rawRDD = spark.read.csv(\"data/train.txt\", header=False, sep=\"\\t\").rdd\n",
    "dataRDD = rawRDD.map(lambda row: ([None if el is None else int(el) for el in row[1:14]] + list(row[14:]), int(row[0])))"
   ]
  },
  {
   "cell_type": "code",
   "execution_count": 4,
   "metadata": {},
   "outputs": [],
   "source": [
    "frequent_feats = {}\n",
    "\n",
    "with open(\"data/freq_category_counts.csv\") as csvfile:\n",
    "    for row in csv.DictReader(csvfile):\n",
    "        total = int(row[\"total\"])\n",
    "        if total >= 10:\n",
    "            key = \"{}-{}\".format(row[\"col_name\"], row[\"category\"])\n",
    "            frequent_feats[key] = int(row[\"category_id\"])\n",
    "\n",
    "with open(\"data/num_significant_categories.csv\") as csvfile:\n",
    "    num_significant_categories = { row[\"field\"]: int(row[\"count\"]) for row in csv.DictReader(csvfile) }"
   ]
  },
  {
   "cell_type": "code",
   "execution_count": 23,
   "metadata": {},
   "outputs": [],
   "source": [
    "from pyspark.mllib.tree import GradientBoostedTrees, GradientBoostedTreesModel, LabeledPoint\n",
    "\n",
    "def to_labeled(pair):\n",
    "    row, label = pair\n",
    "    vector = []\n",
    "    for i, val in enumerate(row):\n",
    "        if i < 13:\n",
    "            if val is None:\n",
    "                val = -10\n",
    "        else:\n",
    "            if val is not None:\n",
    "                key = \"C{}-{}\".format(i - 13, val)\n",
    "                if key in frequent_feats:\n",
    "                    val = frequent_feats[key]\n",
    "                else:\n",
    "                    val = num_significant_categories[\"C\" + str(i - 13)]\n",
    "            else:\n",
    "                val = num_significant_categories[\"C\" + str(i - 13)] + 1\n",
    "        vector.append(val)\n",
    "    return LabeledPoint(label, vector)\n",
    "\n",
    "labeledRDD = dataRDD.map(to_labeled)"
   ]
  },
  {
   "cell_type": "code",
   "execution_count": 6,
   "metadata": {},
   "outputs": [
    {
     "name": "stdout",
     "output_type": "stream",
     "text": [
      "accuracy = 0.7555379325575529\n"
     ]
    }
   ],
   "source": [
    "!rm -rf /media/notebooks/tree-model/\n",
    "\n",
    "# Load and parse the data file.\n",
    "categoricalFeaturesInfo = { int(feat[1:]) + 13: count + 2 for feat, count in num_significant_categories.items() }\n",
    "trainingData, validationData = labeledRDD.randomSplit([0.9, 0.1])\n",
    "\n",
    "\n",
    "model = GradientBoostedTrees.trainClassifier(trainingData,\n",
    "                                             categoricalFeaturesInfo=categoricalFeaturesInfo,\n",
    "                                             maxBins=52,\n",
    "                                             numIterations=5)\n",
    "\n",
    "# Evaluate model on test instances and compute test error\n",
    "predictions = model.predict(validationData.map(lambda x: x.features))\n",
    "labelsAndPredictions = validationData.map(lambda lp: lp.label).zip(predictions)\n",
    "#testErr = labelsAndPredictions.filter(lambda lp: lp[0] != lp[1]).count() / float(validationData.count())\n",
    "labels = validationData.map(lambda lp: lp.label).collect()\n",
    "preds = predictions.collect()\n",
    "accuracy = np.mean(np.array(labels) == np.array(preds))\n",
    "print('accuracy = ' + str(accuracy))\n",
    "\n",
    "# Save and load model\n",
    "model.save(sc, \"tree-model\")"
   ]
  },
  {
   "cell_type": "code",
   "execution_count": 7,
   "metadata": {},
   "outputs": [],
   "source": [
    "sameModel = GradientBoostedTreesModel.load(sc, \"tree-model\")"
   ]
  },
  {
   "cell_type": "code",
   "execution_count": 15,
   "metadata": {},
   "outputs": [
    {
     "name": "stdout",
     "output_type": "stream",
     "text": [
      "TreeEnsembleModel classifier with 5 trees\n",
      "\n",
      "  Tree 0:\n",
      "    If (feature 0 <= 0.5)\n",
      "     If (feature 10 <= 1.5)\n",
      "      If (feature 7 <= 3.5)\n",
      "       Predict: -0.5923807621533136\n",
      "      Else (feature 7 > 3.5)\n",
      "       Predict: -0.7367491828201482\n",
      "     Else (feature 10 > 1.5)\n",
      "      If (feature 5 <= 31.5)\n",
      "       Predict: -0.21648363718424168\n",
      "      Else (feature 5 > 31.5)\n",
      "       Predict: -0.5079386942371497\n",
      "    Else (feature 0 > 0.5)\n",
      "     If (feature 5 <= 6.5)\n",
      "      If (feature 25 in {0.0,42.0,24.0,37.0,25.0,14.0,29.0,1.0,6.0,28.0,38.0,21.0,33.0,9.0,41.0,2.0,32.0,34.0,45.0,17.0,22.0,44.0,27.0,12.0,39.0,3.0,35.0,18.0,50.0,31.0,11.0,43.0,40.0,23.0,8.0,36.0,30.0,4.0,47.0,15.0})\n",
      "       Predict: -0.05881714443232319\n",
      "      Else (feature 25 not in {0.0,42.0,24.0,37.0,25.0,14.0,29.0,1.0,6.0,28.0,38.0,21.0,33.0,9.0,41.0,2.0,32.0,34.0,45.0,17.0,22.0,44.0,27.0,12.0,39.0,3.0,35.0,18.0,50.0,31.0,11.0,43.0,40.0,23.0,8.0,36.0,30.0,4.0,47.0,15.0})\n",
      "       Predict: 0.4012951079874257\n",
      "     Else (feature 5 > 6.5)\n",
      "      If (feature 10 <= 2.5)\n",
      "       Predict: -0.5398605761307711\n",
      "      Else (feature 10 > 2.5)\n",
      "       Predict: -0.28344365781058944\n",
      "  Tree 1:\n",
      "    If (feature 14 in {5.0,10.0,24.0,37.0,29.0,1.0,6.0,28.0,21.0,33.0,9.0,41.0,2.0,32.0,17.0,22.0,44.0,27.0,12.0,49.0,39.0,3.0,35.0,16.0,11.0,36.0,4.0,47.0,15.0})\n",
      "     If (feature 28 in {24.0,37.0,25.0,14.0,1.0,6.0,38.0,2.0,32.0,45.0,22.0,44.0,12.0,3.0,48.0,31.0,11.0,40.0,8.0,51.0,4.0,15.0})\n",
      "      If (feature 26 in {10.0,15.0,6.0,7.0})\n",
      "       Predict: -0.7901116828221793\n",
      "      Else (feature 26 not in {10.0,15.0,6.0,7.0})\n",
      "       Predict: -0.495567229427639\n",
      "     Else (feature 28 not in {24.0,37.0,25.0,14.0,1.0,6.0,38.0,2.0,32.0,45.0,22.0,44.0,12.0,3.0,48.0,31.0,11.0,40.0,8.0,51.0,4.0,15.0})\n",
      "      If (feature 2 <= 5.5)\n",
      "       Predict: -0.11569892836220913\n",
      "      Else (feature 2 > 5.5)\n",
      "       Predict: -0.33871937817005526\n",
      "    Else (feature 14 not in {5.0,10.0,24.0,37.0,29.0,1.0,6.0,28.0,21.0,33.0,9.0,41.0,2.0,32.0,17.0,22.0,44.0,27.0,12.0,49.0,39.0,3.0,35.0,16.0,11.0,36.0,4.0,47.0,15.0})\n",
      "     If (feature 26 in {0.0,24.0,25.0,20.0,1.0,6.0,21.0,13.0,2.0,17.0,22.0,12.0,7.0,16.0,11.0,26.0,23.0,19.0,4.0,15.0})\n",
      "      If (feature 35 in {5.0,10.0,14.0,1.0,6.0,13.0,12.0,3.0,11.0,8.0,4.0})\n",
      "       Predict: -0.2129482979228873\n",
      "      Else (feature 35 not in {5.0,10.0,14.0,1.0,6.0,13.0,12.0,3.0,11.0,8.0,4.0})\n",
      "       Predict: 0.10052845483198616\n",
      "     Else (feature 26 not in {0.0,24.0,25.0,20.0,1.0,6.0,21.0,13.0,2.0,17.0,22.0,12.0,7.0,16.0,11.0,26.0,23.0,19.0,4.0,15.0})\n",
      "      If (feature 36 in {0.0,14.0,29.0,1.0,6.0,21.0,9.0,41.0,34.0,27.0,3.0,35.0,50.0,23.0,36.0,51.0,47.0})\n",
      "       Predict: 0.36986351999805706\n",
      "      Else (feature 36 not in {0.0,14.0,29.0,1.0,6.0,21.0,9.0,41.0,34.0,27.0,3.0,35.0,50.0,23.0,36.0,51.0,47.0})\n",
      "       Predict: 0.8574111570608789\n",
      "  Tree 2:\n",
      "    If (feature 29 in {5.0,1.0,9.0,2.0,7.0,3.0,8.0,4.0})\n",
      "     If (feature 26 in {0.0,25.0,1.0,6.0,21.0,9.0,13.0,2.0,17.0,22.0,12.0,7.0,16.0,11.0,26.0,23.0,19.0,4.0,15.0})\n",
      "      If (feature 14 in {5.0,10.0,24.0,37.0,29.0,1.0,6.0,28.0,21.0,33.0,9.0,13.0,41.0,2.0,32.0,34.0,17.0,22.0,44.0,27.0,12.0,49.0,7.0,39.0,3.0,35.0,50.0,16.0,31.0,11.0,40.0,26.0,23.0,8.0,36.0,30.0,4.0,47.0,15.0})\n",
      "       Predict: -0.30508268160637503\n",
      "      Else (feature 14 not in {5.0,10.0,24.0,37.0,29.0,1.0,6.0,28.0,21.0,33.0,9.0,13.0,41.0,2.0,32.0,34.0,17.0,22.0,44.0,27.0,12.0,49.0,7.0,39.0,3.0,35.0,50.0,16.0,31.0,11.0,40.0,26.0,23.0,8.0,36.0,30.0,4.0,47.0,15.0})\n",
      "       Predict: -0.05410947074813467\n",
      "     Else (feature 26 not in {0.0,25.0,1.0,6.0,21.0,9.0,13.0,2.0,17.0,22.0,12.0,7.0,16.0,11.0,26.0,23.0,19.0,4.0,15.0})\n",
      "      If (feature 14 in {5.0,10.0,24.0,20.0,6.0,28.0,32.0,17.0,44.0,49.0,3.0,35.0,16.0,23.0,8.0,36.0,30.0,4.0,15.0})\n",
      "       Predict: -0.08296152691373895\n",
      "      Else (feature 14 not in {5.0,10.0,24.0,20.0,6.0,28.0,32.0,17.0,44.0,49.0,3.0,35.0,16.0,23.0,8.0,36.0,30.0,4.0,15.0})\n",
      "       Predict: 0.2803391123044637\n",
      "    Else (feature 29 not in {5.0,1.0,9.0,2.0,7.0,3.0,8.0,4.0})\n",
      "     If (feature 12 <= 1.5)\n",
      "      If (feature 3 <= 1.5)\n",
      "       Predict: 0.19574600958047578\n",
      "      Else (feature 3 > 1.5)\n",
      "       Predict: 0.6624473900537116\n",
      "     Else (feature 12 > 1.5)\n",
      "      If (feature 19 in {0.0,5.0,10.0,42.0,24.0,37.0,20.0,1.0,6.0,28.0,38.0,33.0,9.0,13.0,2.0,32.0,34.0,45.0,17.0,22.0,44.0,27.0,12.0,7.0,3.0,35.0,48.0,18.0,50.0,16.0,31.0,11.0,43.0,40.0,8.0,19.0,47.0,15.0})\n",
      "       Predict: -0.11831776480668317\n",
      "      Else (feature 19 not in {0.0,5.0,10.0,42.0,24.0,37.0,20.0,1.0,6.0,28.0,38.0,33.0,9.0,13.0,2.0,32.0,34.0,45.0,17.0,22.0,44.0,27.0,12.0,7.0,3.0,35.0,48.0,18.0,50.0,16.0,31.0,11.0,43.0,40.0,8.0,19.0,47.0,15.0})\n",
      "       Predict: 0.6265118978779023\n",
      "  Tree 3:\n",
      "    If (feature 14 in {5.0,10.0,24.0,37.0,29.0,1.0,6.0,28.0,21.0,33.0,9.0,41.0,2.0,32.0,17.0,22.0,44.0,27.0,12.0,49.0,39.0,3.0,35.0,16.0,11.0,23.0,36.0,4.0,47.0,15.0})\n",
      "     If (feature 32 in {5.0,2.0,3.0})\n",
      "      If (feature 26 in {0.0,10.0,1.0,6.0,2.0,12.0,7.0,16.0,11.0,4.0,15.0})\n",
      "       Predict: -0.3085792295919178\n",
      "      Else (feature 26 not in {0.0,10.0,1.0,6.0,2.0,12.0,7.0,16.0,11.0,4.0,15.0})\n",
      "       Predict: 0.07941908926530629\n",
      "     Else (feature 32 not in {5.0,2.0,3.0})\n",
      "      If (feature 2 <= 9.5)\n",
      "       Predict: 0.0754969398351344\n",
      "      Else (feature 2 > 9.5)\n",
      "       Predict: -0.21213598761885374\n",
      "    Else (feature 14 not in {5.0,10.0,24.0,37.0,29.0,1.0,6.0,28.0,21.0,33.0,9.0,41.0,2.0,32.0,17.0,22.0,44.0,27.0,12.0,49.0,39.0,3.0,35.0,16.0,11.0,23.0,36.0,4.0,47.0,15.0})\n",
      "     If (feature 25 in {5.0,42.0,24.0,37.0,25.0,14.0,1.0,6.0,28.0,38.0,21.0,33.0,9.0,13.0,41.0,2.0,32.0,34.0,45.0,17.0,22.0,44.0,12.0,49.0,7.0,39.0,3.0,35.0,18.0,50.0,31.0,11.0,40.0,23.0,8.0,36.0,30.0,4.0,47.0,15.0})\n",
      "      If (feature 26 in {0.0,25.0,6.0,21.0,17.0,12.0,7.0,16.0,11.0,26.0,23.0,15.0})\n",
      "       Predict: -0.1954620188113182\n",
      "      Else (feature 26 not in {0.0,25.0,6.0,21.0,17.0,12.0,7.0,16.0,11.0,26.0,23.0,15.0})\n",
      "       Predict: 0.08229334924728343\n",
      "     Else (feature 25 not in {5.0,42.0,24.0,37.0,25.0,14.0,1.0,6.0,28.0,38.0,21.0,33.0,9.0,13.0,41.0,2.0,32.0,34.0,45.0,17.0,22.0,44.0,12.0,49.0,7.0,39.0,3.0,35.0,18.0,50.0,31.0,11.0,40.0,23.0,8.0,36.0,30.0,4.0,47.0,15.0})\n",
      "      If (feature 26 in {0.0,10.0,6.0,2.0,7.0,16.0,11.0,8.0,4.0})\n",
      "       Predict: 0.32234147604084495\n",
      "      Else (feature 26 not in {0.0,10.0,6.0,2.0,7.0,16.0,11.0,8.0,4.0})\n",
      "       Predict: 0.6426785527636305\n",
      "  Tree 4:\n",
      "    If (feature 10 <= 4.5)\n",
      "     If (feature 26 in {0.0,25.0,20.0,1.0,6.0,21.0,9.0,13.0,2.0,17.0,22.0,12.0,7.0,16.0,11.0,23.0,19.0,4.0,15.0})\n",
      "      If (feature 24 in {10.0,42.0,24.0,37.0,1.0,6.0,13.0,41.0,32.0,34.0,22.0,44.0,49.0,7.0,3.0,18.0,16.0,11.0,43.0,40.0,23.0,36.0,30.0,19.0,4.0})\n",
      "       Predict: -0.39567467340563134\n",
      "      Else (feature 24 not in {10.0,42.0,24.0,37.0,1.0,6.0,13.0,41.0,32.0,34.0,22.0,44.0,49.0,7.0,3.0,18.0,16.0,11.0,43.0,40.0,23.0,36.0,30.0,19.0,4.0})\n",
      "       Predict: -0.10620094057585626\n",
      "     Else (feature 26 not in {0.0,25.0,20.0,1.0,6.0,21.0,9.0,13.0,2.0,17.0,22.0,12.0,7.0,16.0,11.0,23.0,19.0,4.0,15.0})\n",
      "      If (feature 36 in {0.0,14.0,29.0,1.0,6.0,38.0,21.0,9.0,41.0,34.0,27.0,39.0,3.0,35.0,50.0,11.0,23.0,51.0,19.0,47.0})\n",
      "       Predict: 0.1853693285253644\n",
      "      Else (feature 36 not in {0.0,14.0,29.0,1.0,6.0,38.0,21.0,9.0,41.0,34.0,27.0,39.0,3.0,35.0,50.0,11.0,23.0,51.0,19.0,47.0})\n",
      "       Predict: 0.6453398121835388\n",
      "    Else (feature 10 > 4.5)\n",
      "     If (feature 38 in {5.0,10.0,42.0,24.0,37.0,14.0,20.0,46.0,29.0,1.0,6.0,28.0,21.0,9.0,13.0,41.0,32.0,34.0,17.0,44.0,27.0,12.0,49.0,7.0,48.0,18.0,50.0,16.0,31.0,11.0,43.0,23.0,8.0,19.0,4.0})\n",
      "      If (feature 12 <= 3.5)\n",
      "       Predict: 0.21348726816493493\n",
      "      Else (feature 12 > 3.5)\n",
      "       Predict: -0.1513639708759377\n",
      "     Else (feature 38 not in {5.0,10.0,42.0,24.0,37.0,14.0,20.0,46.0,29.0,1.0,6.0,28.0,21.0,9.0,13.0,41.0,32.0,34.0,17.0,44.0,27.0,12.0,49.0,7.0,48.0,18.0,50.0,16.0,31.0,11.0,43.0,23.0,8.0,19.0,4.0})\n",
      "      If (feature 16 in {0.0,42.0,24.0,37.0,14.0,20.0,46.0,6.0,28.0,21.0,9.0,41.0,2.0,32.0,45.0,17.0,22.0,49.0,7.0,3.0,35.0,50.0,31.0,43.0,40.0,23.0,51.0,19.0,4.0,47.0,15.0})\n",
      "       Predict: 0.34101208899651075\n",
      "      Else (feature 16 not in {0.0,42.0,24.0,37.0,14.0,20.0,46.0,6.0,28.0,21.0,9.0,41.0,2.0,32.0,45.0,17.0,22.0,49.0,7.0,3.0,35.0,50.0,31.0,43.0,40.0,23.0,51.0,19.0,4.0,47.0,15.0})\n",
      "       Predict: 0.9267909510491271\n",
      "\n"
     ]
    }
   ],
   "source": [
    "print(sameModel.toDebugString())"
   ]
  },
  {
   "cell_type": "code",
   "execution_count": 14,
   "metadata": {},
   "outputs": [
    {
     "name": "stdout",
     "output_type": "stream",
     "text": [
      "             precision    recall  f1-score   support\n",
      "\n",
      "        0.0       0.76      0.98      0.86   3405999\n",
      "        1.0       0.67      0.09      0.16   1176397\n",
      "\n",
      "avg / total       0.74      0.76      0.68   4582396\n",
      "\n",
      "[[3353771   52228]\n",
      " [1067994  108403]]\n"
     ]
    }
   ],
   "source": [
    "from sklearn.metrics import confusion_matrix, classification_report\n",
    "\n",
    "print(classification_report(labels, preds))\n",
    "print(confusion_matrix(labels, preds))"
   ]
  },
  {
   "cell_type": "code",
   "execution_count": null,
   "metadata": {},
   "outputs": [],
   "source": []
  }
 ],
 "metadata": {
  "kernelspec": {
   "display_name": "Python 3",
   "language": "python",
   "name": "python3"
  },
  "language_info": {
   "codemirror_mode": {
    "name": "ipython",
    "version": 3
   },
   "file_extension": ".py",
   "mimetype": "text/x-python",
   "name": "python",
   "nbconvert_exporter": "python",
   "pygments_lexer": "ipython3",
   "version": "3.6.6"
  }
 },
 "nbformat": 4,
 "nbformat_minor": 2
}
