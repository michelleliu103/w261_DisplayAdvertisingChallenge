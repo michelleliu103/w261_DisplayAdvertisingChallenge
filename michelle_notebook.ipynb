{
 "cells": [
  {
   "cell_type": "markdown",
   "metadata": {},
   "source": [
    "# Final Project - Display Advertising Challenge\n",
    "__`MIDS w261: Machine Learning at Scale | UC Berkeley School of Information | Fall 2018`__\n",
    "\n",
    "__`Andy Carlson, Mark Gin, Michelle Liu, Kathleen Wang`__\n",
    "\n",
    "## Question Formulation\n",
    "\n",
    "Display advertising is a type of online advertising that comes in several forms, including banner ad, text billboard, or videos. Display advertising is a billion dollar effort and marketers are always thriving for the most optimal way to target their potential customers.\n",
    "\n",
    "In this Kaggle competition, CriteoLabs provided a week’s worth of data on the user and the page he is visiting to develop models predicting ad click-through rate (CTR). Given the metrics CriteoLabs collected on the user and the page, our goal is to develop an accurate machine learning algorithm for CTR estimation to predict if the user would click on the ad. \n",
    "\n",
    "## Background\n",
    "\n",
    "We downloaded the large dataset from CriteoLabs:\n",
    "\n",
    "* train.csv - This file contains 45,840,617 rows, consisting of a portion of Criteo's data over a period of 7 days. Each row corresponds to a display ad, where positive (clicked) and negatives (non-clicked) examples have both been subsampled at different rates to reduce the dataset size. \n",
    "\n",
    "* test.csv - The test set for Kaggle submission purposes is computed in the same way as the training set but for events on the day following the training period.\n",
    "\n",
    "In the data, the first column is a label that indicates if the ad was clicked (1) or not (0). The next 39 columns are undisclosed features - the first 13 columns are integer features, and the next 26 columns are categorial features that are hashed onto 32 bits for anonymization purposes. The fields are left empty when a value is missing.\n",
    "\n",
    "Since around 75% of the data are labeled 0, our goal is to beat 75% accuracy for our algorithm to be practically useful."
   ]
  },
  {
   "cell_type": "markdown",
   "metadata": {},
   "source": [
    "## Algorithm Explanation\n",
    "\n",
    "### Toy Example"
   ]
  },
  {
   "cell_type": "markdown",
   "metadata": {},
   "source": [
    "## EDA & Discussion of Challenges"
   ]
  },
  {
   "cell_type": "markdown",
   "metadata": {},
   "source": [
    "## Algorithm Implementation\n",
    "\n",
    "### Homegrown Implementation\n",
    "\n",
    "### MLlib Implementation"
   ]
  },
  {
   "cell_type": "markdown",
   "metadata": {},
   "source": [
    "## Applications of Course Concepts"
   ]
  },
  {
   "cell_type": "code",
   "execution_count": null,
   "metadata": {},
   "outputs": [],
   "source": []
  }
 ],
 "metadata": {
  "kernelspec": {
   "display_name": "Python 3",
   "language": "python",
   "name": "python3"
  },
  "language_info": {
   "codemirror_mode": {
    "name": "ipython",
    "version": 3
   },
   "file_extension": ".py",
   "mimetype": "text/x-python",
   "name": "python",
   "nbconvert_exporter": "python",
   "pygments_lexer": "ipython3",
   "version": "3.6.6"
  }
 },
 "nbformat": 4,
 "nbformat_minor": 2
}
